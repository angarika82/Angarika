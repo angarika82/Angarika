{
 "cells": [
  {
   "cell_type": "markdown",
   "id": "a81fc2d6-fa2d-4e0f-a950-7dff026fcb0b",
   "metadata": {},
   "source": [
    "# Data Science Tools and Ecosystem"
   ]
  },
  {
   "cell_type": "markdown",
   "id": "de369e53-e1a2-445b-81c9-7fec58b9607e",
   "metadata": {},
   "source": [
    "## Author\n",
    "\n",
    "Angarika Ajgaonkar"
   ]
  },
  {
   "cell_type": "markdown",
   "id": "4b8983fb-32f8-48fd-a6ff-17bc2fcf64cc",
   "metadata": {},
   "source": [
    "In this notebook, Data Science Tools and Ecosystem are summarized."
   ]
  },
  {
   "cell_type": "markdown",
   "id": "83f311b6-1dc4-4935-b8df-1d4beecf9318",
   "metadata": {},
   "source": [
    "**Objectives:** List popular languages for Data Science\n",
    "\n",
    "- Python\n",
    "- R\n",
    "- SAS\n",
    "- Scala"
   ]
  },
  {
   "cell_type": "markdown",
   "id": "eb72fd4b-81ff-4163-a64f-1cebdb40cf3b",
   "metadata": {},
   "source": [
    "Some of the popular languages that Data Scientists use are:"
   ]
  },
  {
   "cell_type": "markdown",
   "id": "63401dcf-a62c-4dbc-a6b8-a33145b3d251",
   "metadata": {},
   "source": [
    "1.Python\n",
    "2.SAS\n",
    "3.R"
   ]
  },
  {
   "cell_type": "markdown",
   "id": "af98c15a-31da-4784-bc8f-c69f53f8705b",
   "metadata": {},
   "source": [
    "1. Python\n",
    "2. SAS\n",
    "3. R"
   ]
  },
  {
   "cell_type": "markdown",
   "id": "47d9b4b4-b3e2-414e-a817-119df5688fd1",
   "metadata": {},
   "source": [
    "Some of the commonly used libraries used by Data Scientists include:\n",
    "1. Pandas\n",
    "2. Scikit-learn\n",
    "3. NumPy"
   ]
  },
  {
   "cell_type": "markdown",
   "id": "9e01588f-8839-4a86-8a66-4a8d442204af",
   "metadata": {},
   "source": [
    "|Data Science Tools|\n",
    "|-------------------|\n",
    "|Apache Spark|\n",
    "|Apache Hadoop|\n",
    "|RStudio|"
   ]
  },
  {
   "cell_type": "markdown",
   "id": "616da2ea-9258-46c4-97b8-752b61099de4",
   "metadata": {},
   "source": [
    "### Below are a few examples of evaluating arithmetic expressions in Python"
   ]
  },
  {
   "cell_type": "markdown",
   "id": "5d253647-c114-4551-a6f8-4d9b0f9d41e1",
   "metadata": {},
   "source": [
    "This a simple arithmetic expression to mutiply then add integers"
   ]
  },
  {
   "cell_type": "code",
   "execution_count": 1,
   "id": "9afb7ccb-d64d-46af-ad4e-7877cf1d162a",
   "metadata": {},
   "outputs": [
    {
     "data": {
      "text/plain": [
       "17"
      ]
     },
     "execution_count": 1,
     "metadata": {},
     "output_type": "execute_result"
    }
   ],
   "source": [
    "(3*4)+5"
   ]
  },
  {
   "cell_type": "markdown",
   "id": "addd6ece-8da0-4013-8748-12e32048ac78",
   "metadata": {},
   "source": [
    "This will convert 200 minutes to hours by diving by 60"
   ]
  },
  {
   "cell_type": "code",
   "execution_count": 2,
   "id": "8c9a98b5-cc82-444a-a5e9-006cc2515f17",
   "metadata": {},
   "outputs": [
    {
     "data": {
      "text/plain": [
       "3.3333333333333335"
      ]
     },
     "execution_count": 2,
     "metadata": {},
     "output_type": "execute_result"
    }
   ],
   "source": [
    "200/60"
   ]
  },
  {
   "cell_type": "code",
   "execution_count": null,
   "id": "2eb2602a-fa6c-483a-8e08-8532c7ef1aa2",
   "metadata": {},
   "outputs": [],
   "source": []
  }
 ],
 "metadata": {
  "kernelspec": {
   "display_name": "Python 3 (ipykernel)",
   "language": "python",
   "name": "python3"
  },
  "language_info": {
   "codemirror_mode": {
    "name": "ipython",
    "version": 3
   },
   "file_extension": ".py",
   "mimetype": "text/x-python",
   "name": "python",
   "nbconvert_exporter": "python",
   "pygments_lexer": "ipython3",
   "version": "3.12.7"
  }
 },
 "nbformat": 4,
 "nbformat_minor": 5
}
